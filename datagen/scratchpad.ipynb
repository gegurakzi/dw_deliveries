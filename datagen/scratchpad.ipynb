{
 "cells": [
  {
   "cell_type": "code",
   "id": "initial_id",
   "metadata": {
    "collapsed": true,
    "ExecuteTime": {
     "end_time": "2024-04-15T05:53:57.485143Z",
     "start_time": "2024-04-15T05:53:57.463174Z"
    }
   },
   "source": [
    "import json, pymysql\n",
    "from common.statements import Statements\n",
    "\n",
    "st = Statements('mysql-statements.xml')\n",
    "sql = st.get(\"insert_into_orders\", param=[1, 2, 3, 4, 5, 6, 7, 8, 9, 10, 11, 12, 13, 14, 15, 16, 17, 18])\n",
    "\n",
    "print(sql)"
   ],
   "outputs": [
    {
     "name": "stdout",
     "output_type": "stream",
     "text": [
      "INSERT INTO orders\n",
      "            id,\n",
      "            account_id,\n",
      "            store_id,\n",
      "            status,\n",
      "            payment,\n",
      "            delivery_type,\n",
      "            delivery_id,\n",
      "            address,\n",
      "            phone_number,\n",
      "            price,\n",
      "            delivery_fee,\n",
      "            total_price,\n",
      "            virtual_number,\n",
      "            wants_disposables,\n",
      "            favor_store,\n",
      "            favor_delivery,\n",
      "            created_on,\n",
      "            last_updated_on\n",
      "        VALUES (1,\n",
      "            2,\n",
      "            3,\n",
      "            4,\n",
      "            5,\n",
      "            6,\n",
      "            7,\n",
      "            8,\n",
      "            9,\n",
      "            10,\n",
      "            11,\n",
      "            12,\n",
      "            13,\n",
      "            14,\n",
      "            15,\n",
      "            16,\n",
      "            17,\n",
      "            18)\n"
     ]
    }
   ],
   "execution_count": 1
  },
  {
   "metadata": {},
   "cell_type": "code",
   "outputs": [],
   "execution_count": null,
   "source": "",
   "id": "5cd9fc65d06a99fb"
  }
 ],
 "metadata": {
  "kernelspec": {
   "display_name": "Python 3",
   "language": "python",
   "name": "python3"
  },
  "language_info": {
   "codemirror_mode": {
    "name": "ipython",
    "version": 2
   },
   "file_extension": ".py",
   "mimetype": "text/x-python",
   "name": "python",
   "nbconvert_exporter": "python",
   "pygments_lexer": "ipython2",
   "version": "2.7.6"
  }
 },
 "nbformat": 4,
 "nbformat_minor": 5
}
