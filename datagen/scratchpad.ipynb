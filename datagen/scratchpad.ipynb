{
 "cells": [
  {
   "cell_type": "code",
   "execution_count": 1,
   "id": "initial_id",
   "metadata": {
    "collapsed": true,
    "ExecuteTime": {
     "end_time": "2024-03-29T06:05:48.093052Z",
     "start_time": "2024-03-29T06:05:47.900037Z"
    }
   },
   "outputs": [],
   "source": [
    "import json\n",
    "\n",
    "from sqlalchemy import create_engine, and_\n",
    "from sqlalchemy.orm import sessionmaker\n",
    "from sqlalchemy.orm import declarative_base\n",
    "\n",
    "\n",
    "with open('conf.json') as f:\n",
    "    config = json.load(f)\n",
    "engine = create_engine(config['db_url'])\n",
    "\n",
    "Session = sessionmaker(bind=engine)\n",
    "Base = declarative_base()\n",
    "Base.metadata.create_all(engine)\n",
    "\n",
    "session = Session()"
   ]
  },
  {
   "cell_type": "code",
   "outputs": [],
   "source": [
    "from sqlalchemy import select, update\n",
    "from application import randomizer, services\n",
    "\n",
    "from domain.models import Account, Address\n"
   ],
   "metadata": {
    "collapsed": false
   },
   "id": "c96c23f77218d543",
   "execution_count": null
  }
 ],
 "metadata": {
  "kernelspec": {
   "display_name": "Python 3",
   "language": "python",
   "name": "python3"
  },
  "language_info": {
   "codemirror_mode": {
    "name": "ipython",
    "version": 2
   },
   "file_extension": ".py",
   "mimetype": "text/x-python",
   "name": "python",
   "nbconvert_exporter": "python",
   "pygments_lexer": "ipython2",
   "version": "2.7.6"
  }
 },
 "nbformat": 4,
 "nbformat_minor": 5
}
