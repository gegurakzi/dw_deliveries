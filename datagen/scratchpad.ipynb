{
 "cells": [
  {
   "cell_type": "code",
   "id": "initial_id",
   "metadata": {
    "collapsed": true,
    "ExecuteTime": {
     "end_time": "2024-04-17T05:10:12.893442Z",
     "start_time": "2024-04-17T05:10:12.529331Z"
    }
   },
   "source": [
    "import json\n",
    "\n",
    "from sqlalchemy import create_engine\n",
    "from sqlalchemy.orm import sessionmaker\n",
    "from sqlalchemy.orm import declarative_base\n",
    "\n",
    "from application import service\n",
    "\n",
    "with open('conf.json') as f:\n",
    "    config = json.load(f)\n",
    "engine = create_engine(config['url'])\n",
    "\n",
    "Session = sessionmaker(bind=engine)\n",
    "Base = declarative_base()\n",
    "Base.metadata.create_all(engine)\n",
    "\n",
    "session = Session()\n",
    "\n",
    "service = service.Service(session)"
   ],
   "outputs": [],
   "execution_count": 1
  },
  {
   "cell_type": "code",
   "source": [
    "import pandas as pd\n",
    "\n",
    "from sqlalchemy import select, update\n",
    "from domain.models import Account, Address, Store, Cart, Product\n",
    "\n",
    "pd.DataFrame(session.execute(\n",
    "            select(Account).where(Account.family_account_id == None)\n",
    "        ).all()).map(lambda x: x.id)\n"
   ],
   "metadata": {
    "collapsed": false,
    "ExecuteTime": {
     "end_time": "2024-04-17T06:40:00.638553Z",
     "start_time": "2024-04-17T06:40:00.627788Z"
    }
   },
   "id": "c96c23f77218d543",
   "outputs": [
    {
     "data": {
      "text/plain": [
       "                             Account\n",
       "0   01a058a8f7a9418a80dc74a134fd0f7b\n",
       "1   054e45dba5974e4397a3e64d03a5bfe8\n",
       "2   084d5df0a36a4ff08e56005d610540a0\n",
       "3   08629ced7c02412ab2ce7282ce526116\n",
       "4   0917c849c59e4a348eeb50fe649d0949\n",
       "..                               ...\n",
       "75  f1835288ca4040c8b766f4b4e31ab36e\n",
       "76  f20a30bcd63c4ee089c062cc5f3e38d7\n",
       "77  f62f3336907645479d036f96e344e97c\n",
       "78  f703a30f783f4d3c89b482e7037f65c9\n",
       "79  f98501cf56624aabaf3b6db0d4794505\n",
       "\n",
       "[80 rows x 1 columns]"
      ],
      "text/html": [
       "<div>\n",
       "<style scoped>\n",
       "    .dataframe tbody tr th:only-of-type {\n",
       "        vertical-align: middle;\n",
       "    }\n",
       "\n",
       "    .dataframe tbody tr th {\n",
       "        vertical-align: top;\n",
       "    }\n",
       "\n",
       "    .dataframe thead th {\n",
       "        text-align: right;\n",
       "    }\n",
       "</style>\n",
       "<table border=\"1\" class=\"dataframe\">\n",
       "  <thead>\n",
       "    <tr style=\"text-align: right;\">\n",
       "      <th></th>\n",
       "      <th>Account</th>\n",
       "    </tr>\n",
       "  </thead>\n",
       "  <tbody>\n",
       "    <tr>\n",
       "      <th>0</th>\n",
       "      <td>01a058a8f7a9418a80dc74a134fd0f7b</td>\n",
       "    </tr>\n",
       "    <tr>\n",
       "      <th>1</th>\n",
       "      <td>054e45dba5974e4397a3e64d03a5bfe8</td>\n",
       "    </tr>\n",
       "    <tr>\n",
       "      <th>2</th>\n",
       "      <td>084d5df0a36a4ff08e56005d610540a0</td>\n",
       "    </tr>\n",
       "    <tr>\n",
       "      <th>3</th>\n",
       "      <td>08629ced7c02412ab2ce7282ce526116</td>\n",
       "    </tr>\n",
       "    <tr>\n",
       "      <th>4</th>\n",
       "      <td>0917c849c59e4a348eeb50fe649d0949</td>\n",
       "    </tr>\n",
       "    <tr>\n",
       "      <th>...</th>\n",
       "      <td>...</td>\n",
       "    </tr>\n",
       "    <tr>\n",
       "      <th>75</th>\n",
       "      <td>f1835288ca4040c8b766f4b4e31ab36e</td>\n",
       "    </tr>\n",
       "    <tr>\n",
       "      <th>76</th>\n",
       "      <td>f20a30bcd63c4ee089c062cc5f3e38d7</td>\n",
       "    </tr>\n",
       "    <tr>\n",
       "      <th>77</th>\n",
       "      <td>f62f3336907645479d036f96e344e97c</td>\n",
       "    </tr>\n",
       "    <tr>\n",
       "      <th>78</th>\n",
       "      <td>f703a30f783f4d3c89b482e7037f65c9</td>\n",
       "    </tr>\n",
       "    <tr>\n",
       "      <th>79</th>\n",
       "      <td>f98501cf56624aabaf3b6db0d4794505</td>\n",
       "    </tr>\n",
       "  </tbody>\n",
       "</table>\n",
       "<p>80 rows × 1 columns</p>\n",
       "</div>"
      ]
     },
     "execution_count": 28,
     "metadata": {},
     "output_type": "execute_result"
    }
   ],
   "execution_count": 28
  },
  {
   "metadata": {},
   "cell_type": "code",
   "outputs": [],
   "execution_count": null,
   "source": "",
   "id": "463a8e1ee4032179"
  }
 ],
 "metadata": {
  "kernelspec": {
   "display_name": "Python 3",
   "language": "python",
   "name": "python3"
  },
  "language_info": {
   "codemirror_mode": {
    "name": "ipython",
    "version": 2
   },
   "file_extension": ".py",
   "mimetype": "text/x-python",
   "name": "python",
   "nbconvert_exporter": "python",
   "pygments_lexer": "ipython2",
   "version": "2.7.6"
  }
 },
 "nbformat": 4,
 "nbformat_minor": 5
}
