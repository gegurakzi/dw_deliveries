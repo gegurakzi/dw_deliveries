{
 "cells": [
  {
   "cell_type": "code",
   "id": "initial_id",
   "metadata": {
    "collapsed": true,
    "ExecuteTime": {
     "end_time": "2024-04-17T08:49:17.895561Z",
     "start_time": "2024-04-17T08:49:17.860584Z"
    }
   },
   "source": [
    "import json\n",
    "\n",
    "from sqlalchemy import create_engine\n",
    "from sqlalchemy.orm import sessionmaker\n",
    "from sqlalchemy.orm import declarative_base\n",
    "\n",
    "from application import service\n",
    "\n",
    "with open('conf.json') as f:\n",
    "    config = json.load(f)\n",
    "engine = create_engine(config['url'])\n",
    "\n",
    "Session = sessionmaker(bind=engine)\n",
    "Base = declarative_base()\n",
    "Base.metadata.create_all(engine)\n",
    "\n",
    "session = Session()\n",
    "\n",
    "service = service.Service(session)"
   ],
   "outputs": [],
   "execution_count": 2
  },
  {
   "cell_type": "code",
   "source": [
    "import pandas as pd\n",
    "\n",
    "from sqlalchemy import select, update\n",
    "from domain.models import Account, Address, Store, Cart, Product\n",
    "\n",
    "store = session.execute(select(Store)\n",
    "            .where(Store.id.in_(\n",
    "                select(Product.store_id).distinct()\n",
    "                .join(Cart, Cart.product_id == Product.id)\n",
    "                .where(Cart.account_id == '000ad57344874ed5a7c1382e578433b1')\n",
    "            )).limit(1)).scalar()\n"
   ],
   "metadata": {
    "collapsed": false,
    "ExecuteTime": {
     "end_time": "2024-04-17T08:54:58.564910Z",
     "start_time": "2024-04-17T08:54:58.558514Z"
    }
   },
   "id": "c96c23f77218d543",
   "outputs": [
    {
     "data": {
      "text/plain": [
       "'서울시 어딘가'"
      ]
     },
     "execution_count": 12,
     "metadata": {},
     "output_type": "execute_result"
    }
   ],
   "execution_count": 12
  },
  {
   "metadata": {},
   "cell_type": "code",
   "outputs": [],
   "execution_count": null,
   "source": "",
   "id": "463a8e1ee4032179"
  }
 ],
 "metadata": {
  "kernelspec": {
   "display_name": "Python 3",
   "language": "python",
   "name": "python3"
  },
  "language_info": {
   "codemirror_mode": {
    "name": "ipython",
    "version": 2
   },
   "file_extension": ".py",
   "mimetype": "text/x-python",
   "name": "python",
   "nbconvert_exporter": "python",
   "pygments_lexer": "ipython2",
   "version": "2.7.6"
  }
 },
 "nbformat": 4,
 "nbformat_minor": 5
}
